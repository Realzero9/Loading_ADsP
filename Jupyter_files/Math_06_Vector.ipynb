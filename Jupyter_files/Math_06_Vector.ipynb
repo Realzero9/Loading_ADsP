{
 "cells": [
  {
   "cell_type": "code",
   "execution_count": 1,
   "id": "8769ecb1",
   "metadata": {},
   "outputs": [
    {
     "name": "stdout",
     "output_type": "stream",
     "text": [
      "[1 2 3]\n"
     ]
    }
   ],
   "source": [
    "import numpy as np\n",
    "\n",
    "x = np.array([1,2,3])\n",
    "print(x)"
   ]
  },
  {
   "cell_type": "code",
   "execution_count": 3,
   "id": "8eb7e7e1",
   "metadata": {},
   "outputs": [
    {
     "data": {
      "text/plain": [
       "array([1, 2, 3])"
      ]
     },
     "execution_count": 3,
     "metadata": {},
     "output_type": "execute_result"
    }
   ],
   "source": [
    "# 크기가 (1,3)인 2차원\n",
    "np.array([1,2,3])"
   ]
  },
  {
   "cell_type": "code",
   "execution_count": 4,
   "id": "14f8e501",
   "metadata": {},
   "outputs": [
    {
     "data": {
      "text/plain": [
       "array([[1],\n",
       "       [2],\n",
       "       [3]])"
      ]
     },
     "execution_count": 4,
     "metadata": {},
     "output_type": "execute_result"
    }
   ],
   "source": [
    "# 크기가 (1,3)인 2차원 열벡터\n",
    "np.array([[1],[2],[3]])"
   ]
  },
  {
   "cell_type": "code",
   "execution_count": 8,
   "id": "4d9beaeb",
   "metadata": {},
   "outputs": [],
   "source": [
    "from scipy import linalg\n",
    "\n",
    "s = np.array([2,3,1])"
   ]
  },
  {
   "cell_type": "code",
   "execution_count": 9,
   "id": "585729fd",
   "metadata": {},
   "outputs": [
    {
     "data": {
      "text/plain": [
       "array([0.53452248, 0.80178373, 0.26726124])"
      ]
     },
     "execution_count": 9,
     "metadata": {},
     "output_type": "execute_result"
    }
   ],
   "source": [
    "# 단위 벡터 - 1을 만드는 작업 / norm(1) 절대값, norm(2) 제곱 ?\n",
    "s / linalg.norm(s)"
   ]
  },
  {
   "cell_type": "code",
   "execution_count": 11,
   "id": "3b8a219e",
   "metadata": {},
   "outputs": [
    {
     "data": {
      "text/plain": [
       "array([ 0.31622777, -0.9486833 ])"
      ]
     },
     "execution_count": 11,
     "metadata": {},
     "output_type": "execute_result"
    }
   ],
   "source": [
    "# Norm\n",
    "x = np.array([1,-3])\n",
    "x / linalg.norm(x)"
   ]
  },
  {
   "cell_type": "code",
   "execution_count": 13,
   "id": "f5e30377",
   "metadata": {},
   "outputs": [
    {
     "data": {
      "text/plain": [
       "array([ 0.31622777, -0.9486833 ])"
      ]
     },
     "execution_count": 13,
     "metadata": {},
     "output_type": "execute_result"
    }
   ],
   "source": [
    "# Norm 2\n",
    "x / (x**2).sum()**0.5"
   ]
  },
  {
   "cell_type": "code",
   "execution_count": 14,
   "id": "73e646fd",
   "metadata": {},
   "outputs": [],
   "source": [
    "# 영 벡터 (zeros())"
   ]
  },
  {
   "cell_type": "code",
   "execution_count": 16,
   "id": "d5cb70c6",
   "metadata": {},
   "outputs": [
    {
     "data": {
      "text/plain": [
       "array([0., 0., 0., 0., 0.])"
      ]
     },
     "execution_count": 16,
     "metadata": {},
     "output_type": "execute_result"
    }
   ],
   "source": [
    "np.zeros(5) # 실수로 반환"
   ]
  },
  {
   "cell_type": "code",
   "execution_count": 18,
   "id": "9dfbb6d2",
   "metadata": {},
   "outputs": [
    {
     "data": {
      "text/plain": [
       "(5,)"
      ]
     },
     "execution_count": 18,
     "metadata": {},
     "output_type": "execute_result"
    }
   ],
   "source": [
    "np.zeros(5).shape # 5행 1열"
   ]
  },
  {
   "cell_type": "code",
   "execution_count": 19,
   "id": "8afa9109",
   "metadata": {},
   "outputs": [
    {
     "data": {
      "text/plain": [
       "array([[0., 0.],\n",
       "       [0., 0.]])"
      ]
     },
     "execution_count": 19,
     "metadata": {},
     "output_type": "execute_result"
    }
   ],
   "source": [
    "s = (2,2)\n",
    "np.zeros(s)"
   ]
  },
  {
   "cell_type": "code",
   "execution_count": 26,
   "id": "0dc70a4a",
   "metadata": {},
   "outputs": [
    {
     "data": {
      "text/plain": [
       "1"
      ]
     },
     "execution_count": 26,
     "metadata": {},
     "output_type": "execute_result"
    }
   ],
   "source": [
    "# 선형 독립, 선형 종속\n",
    "# Rank\n",
    "\n",
    "# matrix_rank()\n",
    "\n",
    "x_1 = np.array([[2,7],[5,1]])\n",
    "np.linalg.matrix_rank(x)"
   ]
  },
  {
   "cell_type": "code",
   "execution_count": 27,
   "id": "5a476ee7",
   "metadata": {},
   "outputs": [
    {
     "data": {
      "text/plain": [
       "1"
      ]
     },
     "execution_count": 27,
     "metadata": {},
     "output_type": "execute_result"
    }
   ],
   "source": [
    "x_2 = np.array([[2,4],[3,6]])\n",
    "np.linalg.matrix_rank(x)"
   ]
  },
  {
   "cell_type": "code",
   "execution_count": 28,
   "id": "8a230b68",
   "metadata": {},
   "outputs": [
    {
     "data": {
      "text/plain": [
       "1"
      ]
     },
     "execution_count": 28,
     "metadata": {},
     "output_type": "execute_result"
    }
   ],
   "source": [
    "x_3 = np.array([[1,2],[3,5]])\n",
    "np.linalg.matrix_rank(x)"
   ]
  },
  {
   "cell_type": "code",
   "execution_count": 30,
   "id": "dff900e8",
   "metadata": {},
   "outputs": [
    {
     "name": "stdout",
     "output_type": "stream",
     "text": [
      "[5, 4]\n"
     ]
    }
   ],
   "source": [
    "# 벡터의 내적과 외적\n",
    "\n",
    "x = [2,3]\n",
    "y = [3,1]\n",
    "\n",
    "# 벡터의 덧셈, 뺄셈 (zip 함수)\n",
    "\n",
    "z = [i+j for i, j in zip(x,y)] # list comprehension?\n",
    "print(z)"
   ]
  },
  {
   "cell_type": "code",
   "execution_count": 33,
   "id": "688e13e0",
   "metadata": {},
   "outputs": [
    {
     "name": "stdout",
     "output_type": "stream",
     "text": [
      "[-1, 2]\n"
     ]
    }
   ],
   "source": [
    "z_2 = [i-j for i,j in zip(x,y)]\n",
    "print(z_2)"
   ]
  },
  {
   "cell_type": "code",
   "execution_count": 34,
   "id": "a0f427a2",
   "metadata": {},
   "outputs": [
    {
     "name": "stdout",
     "output_type": "stream",
     "text": [
      "[24, 32]\n"
     ]
    }
   ],
   "source": [
    "# 벡터의 곱셈 (inner product, outer product)\n",
    "\n",
    "x = [3,4]\n",
    "c = 8\n",
    "\n",
    "z = [c*i for i in x]\n",
    "print(z)"
   ]
  },
  {
   "cell_type": "code",
   "execution_count": 35,
   "id": "6c83dc7f",
   "metadata": {},
   "outputs": [
    {
     "data": {
      "text/plain": [
       "72"
      ]
     },
     "execution_count": 35,
     "metadata": {},
     "output_type": "execute_result"
    }
   ],
   "source": [
    "# 내적 (inner product) 가장 많이 사용됨\n",
    "\n",
    "u = np.array([6,6])  # (1,2)\n",
    "v = np.array([12,0])  # (2,1)\n",
    "\n",
    "np.dot(u,v)  # (1,1) - 크기"
   ]
  },
  {
   "cell_type": "code",
   "execution_count": 31,
   "id": "0bed46e5",
   "metadata": {},
   "outputs": [
    {
     "data": {
      "text/plain": [
       "[(1, 4), (2, 5), (3, 6)]"
      ]
     },
     "execution_count": 31,
     "metadata": {},
     "output_type": "execute_result"
    }
   ],
   "source": [
    "# zip 함수\n",
    "\n",
    "list(zip([1,2,3],[4,5,6]))"
   ]
  },
  {
   "cell_type": "code",
   "execution_count": 32,
   "id": "0e021ce7",
   "metadata": {},
   "outputs": [
    {
     "data": {
      "text/plain": [
       "[(1, 4, 7), (2, 5, 8), (3, 6, 9)]"
      ]
     },
     "execution_count": 32,
     "metadata": {},
     "output_type": "execute_result"
    }
   ],
   "source": [
    "list(zip([1,2,3],[4,5,6],[7,8,9]))"
   ]
  },
  {
   "cell_type": "code",
   "execution_count": 7,
   "id": "b97b29ce",
   "metadata": {},
   "outputs": [],
   "source": [
    "# 벡터의 내적 원리\n",
    "\n",
    "import numpy as np\n",
    "\n",
    "A = np.arange(1*2*3).reshape((1,2,3)) # A의 마지막 축과, B의 뒤에서 2번째 축으로 계산\n",
    "B1 = np.arange(1*2*3).reshape((1,2,3))\n",
    "B2 = np.arange(1*2*3).reshape((1,3,2))\n",
    "B3 = np.arange(1*2*3).reshape((2,1,3))\n",
    "B4 = np.arange(1*2*3).reshape((2,3,1))\n",
    "B5 = np.arange(1*2*3).reshape((3,1,2))\n",
    "B6 = np.arange(1*2*3).reshape((3,2,1))"
   ]
  },
  {
   "cell_type": "code",
   "execution_count": 4,
   "id": "3f1bb8b6",
   "metadata": {},
   "outputs": [
    {
     "data": {
      "text/plain": [
       "array([0, 1, 2, 3, 4, 5])"
      ]
     },
     "execution_count": 4,
     "metadata": {},
     "output_type": "execute_result"
    }
   ],
   "source": [
    "np.arange(1*2*3)"
   ]
  },
  {
   "cell_type": "code",
   "execution_count": 5,
   "id": "d74c47ef",
   "metadata": {},
   "outputs": [
    {
     "data": {
      "text/plain": [
       "array([[[0, 1, 2],\n",
       "        [3, 4, 5]]])"
      ]
     },
     "execution_count": 5,
     "metadata": {},
     "output_type": "execute_result"
    }
   ],
   "source": [
    "np.arange(1*2*3).reshape((1,2,3))"
   ]
  },
  {
   "cell_type": "code",
   "execution_count": 10,
   "id": "4968f092",
   "metadata": {},
   "outputs": [
    {
     "data": {
      "text/plain": [
       "array([[[0, 1],\n",
       "        [2, 3],\n",
       "        [4, 5]]])"
      ]
     },
     "execution_count": 10,
     "metadata": {},
     "output_type": "execute_result"
    }
   ],
   "source": [
    "np.arange(1*2*3).reshape((1,3,2))"
   ]
  },
  {
   "cell_type": "code",
   "execution_count": 18,
   "id": "20087716",
   "metadata": {},
   "outputs": [],
   "source": [
    "# np.dot(A,B1) # value error 발생"
   ]
  },
  {
   "cell_type": "code",
   "execution_count": 9,
   "id": "760ffde1",
   "metadata": {},
   "outputs": [
    {
     "data": {
      "text/plain": [
       "array([[[[10, 13]],\n",
       "\n",
       "        [[28, 40]]]])"
      ]
     },
     "execution_count": 9,
     "metadata": {},
     "output_type": "execute_result"
    }
   ],
   "source": [
    "np.dot(A,B2)"
   ]
  },
  {
   "cell_type": "code",
   "execution_count": 12,
   "id": "19008ec6",
   "metadata": {},
   "outputs": [],
   "source": [
    "# np.dot(A,B3) # value error 발생"
   ]
  },
  {
   "cell_type": "code",
   "execution_count": 13,
   "id": "36da37a5",
   "metadata": {},
   "outputs": [
    {
     "data": {
      "text/plain": [
       "array([[[[ 5],\n",
       "         [14]],\n",
       "\n",
       "        [[14],\n",
       "         [50]]]])"
      ]
     },
     "execution_count": 13,
     "metadata": {},
     "output_type": "execute_result"
    }
   ],
   "source": [
    "np.dot(A,B4)"
   ]
  },
  {
   "cell_type": "code",
   "execution_count": 15,
   "id": "46a8744b",
   "metadata": {},
   "outputs": [],
   "source": [
    "# np.dot(A,B5) # value error 발생"
   ]
  },
  {
   "cell_type": "code",
   "execution_count": 17,
   "id": "abf4720e",
   "metadata": {},
   "outputs": [],
   "source": [
    "# np.dot(A,B6) # value error 발생"
   ]
  },
  {
   "cell_type": "code",
   "execution_count": 19,
   "id": "95b41a93",
   "metadata": {},
   "outputs": [
    {
     "name": "stdout",
     "output_type": "stream",
     "text": [
      "-75\n"
     ]
    }
   ],
   "source": [
    "# dot-product 내적\n",
    "import numpy as np\n",
    "\n",
    "u = np.array([3,-6])\n",
    "v = np.array([-7,9])\n",
    "uv = np.dot(u,v)\n",
    "print(uv)"
   ]
  },
  {
   "cell_type": "code",
   "execution_count": 20,
   "id": "232f55a4",
   "metadata": {},
   "outputs": [],
   "source": [
    "# 외적 (cross() 함수 적용)\n",
    "\n",
    "a = (1,3,5)\n",
    "b = (2,4,6)\n",
    "\n",
    "def cross(a,b):\n",
    "    c = [a[1]*b[2]-a[2]*b[1],\n",
    "         a[2]*b[0]-a[0]*b[2],\n",
    "         a[0]*b[1]-a[1]*b[0]]\n",
    "    return c"
   ]
  },
  {
   "cell_type": "code",
   "execution_count": 21,
   "id": "c6e353ac",
   "metadata": {},
   "outputs": [
    {
     "data": {
      "text/plain": [
       "[-2, 4, -2]"
      ]
     },
     "execution_count": 21,
     "metadata": {},
     "output_type": "execute_result"
    }
   ],
   "source": [
    "cross(a,b)"
   ]
  },
  {
   "cell_type": "code",
   "execution_count": 22,
   "id": "1cdea968",
   "metadata": {},
   "outputs": [
    {
     "name": "stdout",
     "output_type": "stream",
     "text": [
      "[-2  4 -2]\n"
     ]
    }
   ],
   "source": [
    "# numpy 이용 벡터 외적 구하기\n",
    "import numpy as np\n",
    "print(np.cross(a,b))"
   ]
  },
  {
   "cell_type": "code",
   "execution_count": 23,
   "id": "488a793e",
   "metadata": {},
   "outputs": [
    {
     "name": "stdout",
     "output_type": "stream",
     "text": [
      "[1 2]\n"
     ]
    }
   ],
   "source": [
    "# 직교 벡터\n",
    "import numpy as np\n",
    "\n",
    "# 크기가 (1,2)인 2차원 배열\n",
    "\n",
    "a = np.array([1,2])\n",
    "print(a)"
   ]
  },
  {
   "cell_type": "code",
   "execution_count": 24,
   "id": "7f8f7ada",
   "metadata": {},
   "outputs": [
    {
     "data": {
      "text/plain": [
       "2.23606797749979"
      ]
     },
     "execution_count": 24,
     "metadata": {},
     "output_type": "execute_result"
    }
   ],
   "source": [
    "np.linalg.norm(a) # a의 길이"
   ]
  },
  {
   "cell_type": "code",
   "execution_count": 25,
   "id": "36377947",
   "metadata": {},
   "outputs": [
    {
     "data": {
      "text/plain": [
       "3.0"
      ]
     },
     "execution_count": 25,
     "metadata": {},
     "output_type": "execute_result"
    }
   ],
   "source": [
    "# L1 norm\n",
    "\n",
    "np.linalg.norm(a, ord=1)"
   ]
  },
  {
   "cell_type": "code",
   "execution_count": 26,
   "id": "d29f6eac",
   "metadata": {},
   "outputs": [
    {
     "data": {
      "text/plain": [
       "2.23606797749979"
      ]
     },
     "execution_count": 26,
     "metadata": {},
     "output_type": "execute_result"
    }
   ],
   "source": [
    "# L2 norm\n",
    "\n",
    "np.linalg.norm(a, ord=2)"
   ]
  },
  {
   "cell_type": "code",
   "execution_count": 27,
   "id": "d4ab85ac",
   "metadata": {},
   "outputs": [
    {
     "data": {
      "text/plain": [
       "5.196152422706632"
      ]
     },
     "execution_count": 27,
     "metadata": {},
     "output_type": "execute_result"
    }
   ],
   "source": [
    "# 유클리디언 거리 구하기\n",
    "\n",
    "from scipy.spatial import distance\n",
    "\n",
    "p1 = (1,2,3)\n",
    "p2 = (4,5,6)\n",
    "\n",
    "# p1, p2 사이 유클리디언 거리\n",
    "distance.euclidean(p1,p2)"
   ]
  },
  {
   "cell_type": "code",
   "execution_count": 31,
   "id": "c6bf61bc",
   "metadata": {},
   "outputs": [],
   "source": [
    "# 맨해튼 거리\n",
    "\n",
    "from math import *\n",
    "\n",
    "p1 = (1,2,3)\n",
    "p2 = (4,5,6)\n",
    "\n",
    "# p1, p2 사이 맨해튼거리\n",
    "\n",
    "def manhattan_dist(x,y):\n",
    "    return sum(abs(a-b) for a,b in zip(x,y))"
   ]
  },
  {
   "cell_type": "code",
   "execution_count": 32,
   "id": "2f8f5cfb",
   "metadata": {},
   "outputs": [
    {
     "data": {
      "text/plain": [
       "9"
      ]
     },
     "execution_count": 32,
     "metadata": {},
     "output_type": "execute_result"
    }
   ],
   "source": [
    "manhattan_dist(p1,p2)"
   ]
  },
  {
   "cell_type": "code",
   "execution_count": 34,
   "id": "779b6065",
   "metadata": {},
   "outputs": [],
   "source": [
    "# 코사인 유사도 - 문서 유사도\n",
    "\n",
    "from numpy import dot\n",
    "from numpy.linalg import norm\n",
    "import numpy as np\n",
    "\n",
    "def cos_sim(A,B):\n",
    "    return dot(A,B)/(norm(A)*norm(B)) # cosAB / normAB"
   ]
  },
  {
   "cell_type": "code",
   "execution_count": 38,
   "id": "65b8ccbe",
   "metadata": {},
   "outputs": [],
   "source": [
    "doc1 = np.array([1,1,1,1,0])\n",
    "doc2 = np.array([1,0,1,0,1])\n",
    "doc3 = np.array([2,1,1,1,1])"
   ]
  },
  {
   "cell_type": "code",
   "execution_count": 39,
   "id": "3375ffcd",
   "metadata": {},
   "outputs": [
    {
     "name": "stdout",
     "output_type": "stream",
     "text": [
      "0.5773502691896258\n",
      "0.8838834764831843\n",
      "0.8164965809277259\n"
     ]
    }
   ],
   "source": [
    "# 코사인 함수에 따라 문서간 유사도 출력하기\n",
    "\n",
    "print(cos_sim(doc1, doc2))\n",
    "print(cos_sim(doc1, doc3)) # 유사도가 가장 높음\n",
    "print(cos_sim(doc2, doc3))"
   ]
  },
  {
   "cell_type": "code",
   "execution_count": null,
   "id": "24553e1b",
   "metadata": {},
   "outputs": [],
   "source": []
  }
 ],
 "metadata": {
  "kernelspec": {
   "display_name": "Python 3 (ipykernel)",
   "language": "python",
   "name": "python3"
  },
  "language_info": {
   "codemirror_mode": {
    "name": "ipython",
    "version": 3
   },
   "file_extension": ".py",
   "mimetype": "text/x-python",
   "name": "python",
   "nbconvert_exporter": "python",
   "pygments_lexer": "ipython3",
   "version": "3.9.7"
  }
 },
 "nbformat": 4,
 "nbformat_minor": 5
}
