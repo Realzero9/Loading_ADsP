{
 "cells": [
  {
   "cell_type": "code",
   "execution_count": 1,
   "id": "1026fdb7",
   "metadata": {},
   "outputs": [],
   "source": [
    "from sympy import symbols"
   ]
  },
  {
   "cell_type": "markdown",
   "id": "3f82671f",
   "metadata": {},
   "source": [
    "#### 평균변화율 함수"
   ]
  },
  {
   "cell_type": "code",
   "execution_count": 7,
   "id": "ccec153c",
   "metadata": {},
   "outputs": [],
   "source": [
    "def average_max_min(a,b):\n",
    "    m = max(a,b)\n",
    "    n = min(a,b)\n",
    "    x= symbols('x')\n",
    "    \n",
    "    fx = 2*x**2+4*x+7 # 2x^2+4x+7 함수 정의\n",
    "    fb = fx.subs(x,m) # 함수 m에 대입\n",
    "    fa = fx.subs(x,n) # 함수 n에 대입\n",
    "    \n",
    "    result = (fb-fa)/(m-n)\n",
    "    return result"
   ]
  },
  {
   "cell_type": "code",
   "execution_count": 7,
   "id": "2bf456a4",
   "metadata": {},
   "outputs": [],
   "source": [
    "# 수정\n",
    "def average(a,b):\n",
    "    x= symbols('x')\n",
    "    \n",
    "    fx = 2*x**2+4*x+7 # 2x^2+4x+7 함수 정의\n",
    "    fb = fx.subs(x,b) # 함수 m에 대입\n",
    "    fa = fx.subs(x,a) # 함수 n에 대입\n",
    "    \n",
    "    result = (fb-fa)/(b-a)\n",
    "    return result"
   ]
  },
  {
   "cell_type": "code",
   "execution_count": 8,
   "id": "f9f2b869",
   "metadata": {},
   "outputs": [
    {
     "name": "stdout",
     "output_type": "stream",
     "text": [
      "8\n"
     ]
    }
   ],
   "source": [
    "print(average(0,2))"
   ]
  },
  {
   "cell_type": "markdown",
   "id": "35320545",
   "metadata": {},
   "source": [
    "#### 순간변화율"
   ]
  },
  {
   "cell_type": "code",
   "execution_count": 19,
   "id": "19e22918",
   "metadata": {},
   "outputs": [],
   "source": [
    "from sympy import Derivative, symbols"
   ]
  },
  {
   "cell_type": "markdown",
   "id": "ce02e8fa",
   "metadata": {},
   "source": [
    "Derivative : 도함수, y= f(x)를 미분한 함수"
   ]
  },
  {
   "cell_type": "code",
   "execution_count": 28,
   "id": "af3ebfa9",
   "metadata": {},
   "outputs": [],
   "source": [
    "# 평균 변화율을 구할 수 있는 함수를 정의\n",
    "\n",
    "x= symbols('x')\n",
    "fx = 2*x**2+4*x+7"
   ]
  },
  {
   "cell_type": "code",
   "execution_count": 15,
   "id": "150730ad",
   "metadata": {},
   "outputs": [
    {
     "data": {
      "text/latex": [
       "$\\displaystyle 4 x + 4$"
      ],
      "text/plain": [
       "4*x + 4"
      ]
     },
     "execution_count": 15,
     "metadata": {},
     "output_type": "execute_result"
    }
   ],
   "source": [
    "Derivative(fx,x).doit()"
   ]
  },
  {
   "cell_type": "code",
   "execution_count": 26,
   "id": "5d62ca9f",
   "metadata": {},
   "outputs": [],
   "source": [
    "f_prime = Derivative(fx,x).doit()"
   ]
  },
  {
   "cell_type": "code",
   "execution_count": 27,
   "id": "4357fb7f",
   "metadata": {},
   "outputs": [
    {
     "data": {
      "text/latex": [
       "$\\displaystyle 16$"
      ],
      "text/plain": [
       "16"
      ]
     },
     "execution_count": 27,
     "metadata": {},
     "output_type": "execute_result"
    }
   ],
   "source": [
    "f_prime.subs({x:3}) # 미분계수 f_prime 3"
   ]
  },
  {
   "cell_type": "markdown",
   "id": "2af57a68",
   "metadata": {},
   "source": [
    "#### 다항함수의 미분법"
   ]
  },
  {
   "cell_type": "code",
   "execution_count": 22,
   "id": "1a225528",
   "metadata": {},
   "outputs": [],
   "source": [
    "import sympy as sym"
   ]
  },
  {
   "cell_type": "markdown",
   "id": "a969f206",
   "metadata": {},
   "source": [
    "differentitation : 분해, 이것도 미분"
   ]
  },
  {
   "cell_type": "code",
   "execution_count": 24,
   "id": "e1bcfb48",
   "metadata": {},
   "outputs": [
    {
     "name": "stdout",
     "output_type": "stream",
     "text": [
      "6*x**2 + 6*x + 1\n"
     ]
    }
   ],
   "source": [
    "x = sym.Symbol('x')\n",
    "a = sym.diff((2*x**3+3*x**2+x+1),x) # x에 대해서 미분하라\n",
    "print(a)"
   ]
  }
 ],
 "metadata": {
  "kernelspec": {
   "display_name": "Python 3 (ipykernel)",
   "language": "python",
   "name": "python3"
  },
  "language_info": {
   "codemirror_mode": {
    "name": "ipython",
    "version": 3
   },
   "file_extension": ".py",
   "mimetype": "text/x-python",
   "name": "python",
   "nbconvert_exporter": "python",
   "pygments_lexer": "ipython3",
   "version": "3.9.7"
  }
 },
 "nbformat": 4,
 "nbformat_minor": 5
}
