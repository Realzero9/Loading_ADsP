{
 "cells": [
  {
   "cell_type": "code",
   "execution_count": 4,
   "id": "9b41498e",
   "metadata": {},
   "outputs": [],
   "source": [
    "from sympy import Limit, S, Symbol # 고급함수 사용시 sympy"
   ]
  },
  {
   "cell_type": "code",
   "execution_count": 7,
   "id": "acf5c753",
   "metadata": {},
   "outputs": [
    {
     "data": {
      "text/latex": [
       "$\\displaystyle 0$"
      ],
      "text/plain": [
       "0"
      ]
     },
     "execution_count": 7,
     "metadata": {},
     "output_type": "execute_result"
    }
   ],
   "source": [
    "# x 변수 생성, x가 0에 한없이 가까워 질때\n",
    "# 1/x에 대한 극한 값\n",
    "\n",
    "x=  Symbol('x')\n",
    "Limit(1/x,x, S.Infinity).doit() # 함수먼저 나오고 변수 지정"
   ]
  },
  {
   "cell_type": "code",
   "execution_count": 8,
   "id": "eeb7b181",
   "metadata": {},
   "outputs": [
    {
     "data": {
      "text/latex": [
       "$\\displaystyle \\infty$"
      ],
      "text/plain": [
       "oo"
      ]
     },
     "execution_count": 8,
     "metadata": {},
     "output_type": "execute_result"
    }
   ],
   "source": [
    "# 우극한 값 구하기\n",
    "Limit(1/x,x,0).doit()"
   ]
  },
  {
   "cell_type": "code",
   "execution_count": 9,
   "id": "2e051eaf",
   "metadata": {},
   "outputs": [
    {
     "data": {
      "text/latex": [
       "$\\displaystyle -\\infty$"
      ],
      "text/plain": [
       "-oo"
      ]
     },
     "execution_count": 9,
     "metadata": {},
     "output_type": "execute_result"
    }
   ],
   "source": [
    "# 좌극한 값 구하기\n",
    "Limit(1/x,x,0,dir='-').doit()"
   ]
  }
 ],
 "metadata": {
  "kernelspec": {
   "display_name": "Python 3 (ipykernel)",
   "language": "python",
   "name": "python3"
  },
  "language_info": {
   "codemirror_mode": {
    "name": "ipython",
    "version": 3
   },
   "file_extension": ".py",
   "mimetype": "text/x-python",
   "name": "python",
   "nbconvert_exporter": "python",
   "pygments_lexer": "ipython3",
   "version": "3.9.7"
  }
 },
 "nbformat": 4,
 "nbformat_minor": 5
}
